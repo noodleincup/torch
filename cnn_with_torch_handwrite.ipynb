{
 "cells": [
  {
   "cell_type": "markdown",
   "id": "896490c4",
   "metadata": {},
   "source": [
    "# Load module"
   ]
  },
  {
   "cell_type": "code",
   "execution_count": null,
   "id": "46163c53",
   "metadata": {},
   "outputs": [],
   "source": [
    "import torch\n",
    "import torch.nn as nn\n",
    "import torch.optim as optim\n",
    "from torch.utils.data import DataLoader\n",
    "from torchvision import datasets, transforms\n",
    "import matplotlib.pyplot as plt"
   ]
  },
  {
   "cell_type": "markdown",
   "id": "7aa92044",
   "metadata": {},
   "source": [
    "# Define parameter"
   ]
  },
  {
   "cell_type": "code",
   "execution_count": null,
   "id": "dbede6f4",
   "metadata": {},
   "outputs": [],
   "source": [
    "batch_size = 256\n",
    "epochs = 10\n",
    "learning_rate = 5e-6 #0.001\n",
    "number_class = 10\n",
    "in_shape = (1, 28, 28)  # (channels, height, width) in PyTorch"
   ]
  },
  {
   "cell_type": "markdown",
   "id": "f1d6c007",
   "metadata": {},
   "source": [
    "# Data loading & preprocessing"
   ]
  },
  {
   "cell_type": "code",
   "execution_count": null,
   "id": "1e497ea5",
   "metadata": {},
   "outputs": [],
   "source": [
    "transform = transforms.Compose([\n",
    "    transforms.ToTensor(),               # Convert PIL Image to tensor\n",
    "    transforms.Normalize((0.0,), (255.0,)) # Scale 0–255 to 0–1\n",
    "])\n",
    "\n",
    "train_dataset = datasets.MNIST(root='../datasets/handwrite', train=True, download=True, transform=transform)\n",
    "test_dataset = datasets.MNIST(root='../datasets/handwrite', train=False, download=True, transform=transform)\n",
    "\n",
    "train_loader = DataLoader(train_dataset, batch_size=batch_size, shuffle=True)\n",
    "test_loader = DataLoader(test_dataset, batch_size=batch_size, shuffle=False)"
   ]
  },
  {
   "cell_type": "markdown",
   "id": "4930849f",
   "metadata": {},
   "source": [
    "# Model definition"
   ]
  },
  {
   "cell_type": "code",
   "execution_count": null,
   "id": "22e3be19",
   "metadata": {},
   "outputs": [],
   "source": [
    "class CNNModel(nn.Module):\n",
    "    def __init__(self, number_class):\n",
    "        super(CNNModel, self).__init__()\n",
    "        self.conv1 = nn.Conv2d(1, 32, kernel_size=3)  # in_channels=1 for MNIST\n",
    "        self.pool1 = nn.MaxPool2d(kernel_size=2)\n",
    "        self.conv2 = nn.Conv2d(32, 64, kernel_size=3)\n",
    "        self.pool2 = nn.MaxPool2d(kernel_size=2)\n",
    "        self.flatten = nn.Flatten()\n",
    "        self.dropout1 = nn.Dropout(0.5)\n",
    "        self.fc1 = nn.Linear(64 * 5 * 5, 128)  # 28->26->13->11->5 (pooling reduces size)\n",
    "        self.dropout2 = nn.Dropout(0.5)\n",
    "        self.fc2 = nn.Linear(128, number_class)\n",
    "\n",
    "    def forward(self, x):\n",
    "        x = torch.relu(self.conv1(x))\n",
    "        x = self.pool1(x)\n",
    "        x = torch.relu(self.conv2(x))\n",
    "        x = self.pool2(x)\n",
    "        x = self.flatten(x)\n",
    "        x = self.dropout1(x)\n",
    "        x = torch.relu(self.fc1(x))\n",
    "        x = self.dropout2(x)\n",
    "        x = self.fc2(x)  # logits (softmax applied in loss)\n",
    "        return x"
   ]
  },
  {
   "cell_type": "markdown",
   "id": "3216dc02",
   "metadata": {},
   "source": [
    "# Instantiate model, loss, optimizer"
   ]
  },
  {
   "cell_type": "code",
   "execution_count": null,
   "id": "97b4d253",
   "metadata": {},
   "outputs": [],
   "source": [
    "device = torch.device('cuda' if torch.cuda.is_available() else 'cpu')\n",
    "model = CNNModel(number_class).to(device)\n",
    "criterion = nn.CrossEntropyLoss()\n",
    "optimizer = optim.Adam(model.parameters(), lr=learning_rate)"
   ]
  },
  {
   "cell_type": "markdown",
   "id": "5804553d",
   "metadata": {},
   "source": [
    "# Find best learning"
   ]
  },
  {
   "cell_type": "code",
   "execution_count": null,
   "id": "2792fc75",
   "metadata": {},
   "outputs": [],
   "source": [
    "def find_lr(model, train_loader, loss_fn, optimizer_class=optim.Adam, \n",
    "            init_value=1e-7, final_value=10, beta=0.98):\n",
    "    \"\"\"Run a learning rate range test.\"\"\"\n",
    "    num = len(train_loader) - 1\n",
    "    mult = (final_value / init_value) ** (1/num)\n",
    "    lr = init_value\n",
    "    optimizer = optimizer_class(model.parameters(), lr=lr)\n",
    "    \n",
    "    avg_loss, best_loss = 0., float('inf')\n",
    "    losses, log_lrs = [], []\n",
    "    \n",
    "    for batch_num, (inputs, targets) in enumerate(train_loader):\n",
    "        # Move to GPU if available\n",
    "        inputs, targets = inputs.to(next(model.parameters()).device), targets.to(next(model.parameters()).device)\n",
    "\n",
    "        # Adjust learning rate\n",
    "        lr *= mult\n",
    "        for param_group in optimizer.param_groups:\n",
    "            param_group['lr'] = lr\n",
    "\n",
    "        optimizer.zero_grad()\n",
    "        outputs = model(inputs)\n",
    "        loss = loss_fn(outputs, targets)\n",
    "\n",
    "        # Compute smoothed loss\n",
    "        avg_loss = beta * avg_loss + (1-beta) * loss.item()\n",
    "        smoothed_loss = avg_loss / (1 - beta**(batch_num+1))\n",
    "        \n",
    "        # Record the lr and loss\n",
    "        log_lrs.append(lr)\n",
    "        losses.append(smoothed_loss)\n",
    "        \n",
    "        # Stop if the loss explodes\n",
    "        if batch_num > 1 and smoothed_loss > 4 * best_loss:\n",
    "            break\n",
    "        \n",
    "        # Update best loss\n",
    "        if smoothed_loss < best_loss or batch_num == 0:\n",
    "            best_loss = smoothed_loss\n",
    "\n",
    "        # Backprop\n",
    "        loss.backward()\n",
    "        optimizer.step()\n",
    "    \n",
    "    # Plot\n",
    "    plt.plot(log_lrs, losses)\n",
    "    plt.xscale('log')\n",
    "    plt.xlabel(\"Learning Rate\")\n",
    "    plt.ylabel(\"Loss\")\n",
    "    plt.title(\"LR Finder\")\n",
    "    plt.show()\n",
    "\n",
    "# --- Example usage ---\n",
    "# Assume you already have:\n",
    "#   train_loader = DataLoader(train_dataset, batch_size=...)\n",
    "#   loss_fn = nn.CrossEntropyLoss()\n",
    "\n",
    "find_lr(model, train_loader, criterion)"
   ]
  },
  {
   "cell_type": "markdown",
   "id": "859a5a1b",
   "metadata": {},
   "source": [
    "# Train model"
   ]
  },
  {
   "cell_type": "code",
   "execution_count": null,
   "id": "362e0de2",
   "metadata": {},
   "outputs": [],
   "source": [
    "for epoch in range(epochs):\n",
    "    model.train()\n",
    "    running_loss = 0.0\n",
    "    for batch_idx, (inputs, targets) in enumerate(train_loader):\n",
    "        inputs, targets = inputs.to(device), targets.to(device)\n",
    "\n",
    "        optimizer.zero_grad()\n",
    "        outputs = model(inputs)\n",
    "        loss = criterion(outputs, targets)\n",
    "        loss.backward()\n",
    "        optimizer.step()\n",
    "\n",
    "        running_loss += loss.item()\n",
    "\n",
    "    print(f\"Epoch [{epoch+1}/{epochs}], Loss: {running_loss/len(train_loader):.4f}\")"
   ]
  },
  {
   "cell_type": "markdown",
   "id": "b1908a4c",
   "metadata": {},
   "source": [
    "# Evaluation"
   ]
  },
  {
   "cell_type": "code",
   "execution_count": null,
   "id": "ac7b7f5f",
   "metadata": {},
   "outputs": [],
   "source": [
    "model.eval()\n",
    "correct = 0\n",
    "total = 0\n",
    "with torch.no_grad():\n",
    "    for inputs, targets in test_loader:\n",
    "        inputs, targets = inputs.to(device), targets.to(device)\n",
    "        outputs = model(inputs)\n",
    "        _, predicted = torch.max(outputs, 1)\n",
    "        total += targets.size(0)\n",
    "        correct += (predicted == targets).sum().item()\n",
    "\n",
    "print(f\"Test Accuracy: {100 * correct / total:.2f}%\")"
   ]
  },
  {
   "cell_type": "markdown",
   "id": "88705951",
   "metadata": {},
   "source": [
    "Prediction example"
   ]
  },
  {
   "cell_type": "code",
   "execution_count": null,
   "id": "f2436fd3",
   "metadata": {},
   "outputs": [],
   "source": [
    "import matplotlib.pyplot as plt\n",
    "\n",
    "sample_image, sample_label = test_dataset[0]\n",
    "plt.imshow(sample_image.squeeze(), cmap='gray')\n",
    "plt.title(f\"True Label: {sample_label}\")\n",
    "plt.axis('off')\n",
    "plt.show()\n",
    "\n",
    "model.eval()\n",
    "with torch.no_grad():\n",
    "    sample_image = sample_image.unsqueeze(0).to(device)  # Add batch dim\n",
    "    output = model(sample_image)\n",
    "    pred_label = output.argmax(dim=1).item()\n",
    "    print(f\"Predicted Label: {pred_label}\")"
   ]
  }
 ],
 "metadata": {
  "kernelspec": {
   "display_name": "torch-py311",
   "language": "python",
   "name": "torch-py311"
  },
  "language_info": {
   "codemirror_mode": {
    "name": "ipython",
    "version": 3
   },
   "file_extension": ".py",
   "mimetype": "text/x-python",
   "name": "python",
   "nbconvert_exporter": "python",
   "pygments_lexer": "ipython3",
   "version": "3.11.9"
  }
 },
 "nbformat": 4,
 "nbformat_minor": 5
}
